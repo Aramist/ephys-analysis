{
 "cells": [
  {
   "cell_type": "code",
   "execution_count": 1,
   "metadata": {},
   "outputs": [
    {
     "name": "stdout",
     "output_type": "stream",
     "text": [
      "Populating the interactive namespace from numpy and matplotlib\n"
     ]
    },
    {
     "name": "stderr",
     "output_type": "stream",
     "text": [
      "C:\\Users\\acquisition\\.conda\\envs\\acquisition\\lib\\site-packages\\IPython\\core\\magics\\pylab.py:160: UserWarning: pylab import has clobbered these variables: ['datetime']\n",
      "`%matplotlib` prevents importing * from pylab and numpy\n",
      "  \"\\n`%matplotlib` prevents importing * from pylab and numpy\"\n"
     ]
    }
   ],
   "source": [
    "from glob import glob\n",
    "import seaborn as sns\n",
    "from scipy.io import wavfile\n",
    "import os\n",
    "from os import path\n",
    "import h5py\n",
    "import ephys_util\n",
    "from ephys_util import butter_bandpass_filter, load_wm, get_spikes, psth_channel, get_onsets, h5_to_wav, load_data_new, truncate_audio_new\n",
    "from datetime import datetime\n",
    "\n",
    "%pylab inline"
   ]
  },
  {
   "cell_type": "code",
   "execution_count": 2,
   "metadata": {},
   "outputs": [],
   "source": [
    "sns.set_style('white')\n",
    "sns.set_style('ticks')\n",
    "sns.set_context('talk')"
   ]
  },
  {
   "cell_type": "code",
   "execution_count": null,
   "metadata": {},
   "outputs": [],
   "source": []
  },
  {
   "cell_type": "markdown",
   "metadata": {},
   "source": [
    "# convert h5 audio to wav"
   ]
  },
  {
   "cell_type": "code",
   "execution_count": 3,
   "metadata": {},
   "outputs": [],
   "source": [
    "isolation2 = r'D:\\acquired_data\\2021_09_22_14_35_41_658731__2M_isolation2'\n",
    "\n",
    "dirnames = [isolation2]"
   ]
  },
  {
   "cell_type": "code",
   "execution_count": 4,
   "metadata": {},
   "outputs": [
    {
     "name": "stdout",
     "output_type": "stream",
     "text": [
      "Wrote data to: D:\\acquired_data\\2021_09_22_14_35_41_658731__2M_isolation2\\mic_2021_09_22_14_35_41_658731_mic1.wav\n",
      "Wrote data to: D:\\acquired_data\\2021_09_22_14_35_41_658731__2M_isolation2\\mic_2021_09_22_15_05_41_737536_mic1.wav\n",
      "14:32:10- Function h5_to_wav, called by <module>, executed in 7.161s\n"
     ]
    }
   ],
   "source": [
    "for i in dirnames:\n",
    "    h5_to_wav(i)"
   ]
  },
  {
   "cell_type": "markdown",
   "metadata": {},
   "source": [
    "# get the onsets "
   ]
  },
  {
   "cell_type": "code",
   "execution_count": 5,
   "metadata": {},
   "outputs": [
    {
     "name": "stdout",
     "output_type": "stream",
     "text": [
      "14:32:10- Function get_onsets, called by <module>, executed in 0.000s\n"
     ]
    }
   ],
   "source": [
    "isolation2_onsets = get_onsets(35.933, 65.6, 40, 2)"
   ]
  },
  {
   "cell_type": "code",
   "execution_count": 6,
   "metadata": {},
   "outputs": [
    {
     "data": {
      "text/plain": [
       "39"
      ]
     },
     "execution_count": 6,
     "metadata": {},
     "output_type": "execute_result"
    }
   ],
   "source": [
    "len(isolation2_onsets[:-1])"
   ]
  },
  {
   "cell_type": "markdown",
   "metadata": {},
   "source": [
    "# do analysis"
   ]
  },
  {
   "cell_type": "code",
   "execution_count": null,
   "metadata": {},
   "outputs": [],
   "source": []
  },
  {
   "cell_type": "code",
   "execution_count": 7,
   "metadata": {},
   "outputs": [
    {
     "name": "stdout",
     "output_type": "stream",
     "text": [
      "Start: 2021-10-06 14:32:10.939002\n",
      "Loading physiology data...\n",
      "14:32:13- Function io_fromfile, called by load_wm, executed in 2.606s\n",
      "14:32:19- Function load_wm, called by load_data_new, executed in 8.289s\n",
      "Bandpassing from 200-4000 Hz...\n",
      "14:32:19- Function butter_bandpass, called by butter_bandpass_filter, executed in 0.003s\n",
      "14:33:48- Function butter_bandpass_filter, called by load_data_new, executed in 1:29\n",
      "Computing mean signal across all channels...\n",
      "Subtracting mean signal across all channels...\n",
      "\n",
      "Truncating audio...\n",
      "Ephys trigger detected at analog sample number 3431443\n",
      "\n",
      "14:34:02- Function io_mic1, called by truncate_audio_new, executed in 0.000s\n",
      "14:34:02- Function io_mic2, called by truncate_audio_new, executed in 0.001s\n",
      "14:34:02- Function truncate_audio_new, called by load_data_new, executed in 0.037s\n",
      "\n",
      "14:34:02- Function load_data_new, called by <module>, executed in 1:51\n",
      "14:34:29- Function make_thresholds, called by get_spikes, executed in 26.194s\n",
      "14:34:52- Function get_spike_loc, called by get_spikes, executed in 23.348s\n",
      "14:34:52- Function index_search, called by get_spikes, executed in 0.000s\n",
      "14:34:52- Function get_spikes, called by <module>, executed in 49.594s\n",
      "14:34:52- Function truncate_spikes, called by psth_channel, executed in 0.000s\n",
      "14:34:52- Function truncate_spikes, called by psth_channel, executed in 0.000s\n",
      "14:34:52- Function truncate_spikes, called by psth_channel, executed in 0.001s\n",
      "14:34:52- Function truncate_spikes, called by psth_channel, executed in 0.000s\n",
      "14:34:52- Function truncate_spikes, called by psth_channel, executed in 0.000s\n",
      "14:34:52- Function truncate_spikes, called by psth_channel, executed in 0.001s\n",
      "14:34:52- Function truncate_spikes, called by psth_channel, executed in 0.000s\n",
      "14:34:52- Function truncate_spikes, called by psth_channel, executed in 0.000s\n",
      "14:34:52- Function truncate_spikes, called by psth_channel, executed in 0.000s\n",
      "14:34:52- Function truncate_spikes, called by psth_channel, executed in 0.001s\n",
      "14:34:52- Function truncate_spikes, called by psth_channel, executed in 0.000s\n",
      "14:34:52- Function truncate_spikes, called by psth_channel, executed in 0.000s\n",
      "14:34:52- Function truncate_spikes, called by psth_channel, executed in 0.000s\n",
      "14:34:52- Function truncate_spikes, called by psth_channel, executed in 0.000s\n",
      "14:34:52- Function truncate_spikes, called by psth_channel, executed in 0.000s\n",
      "14:34:52- Function truncate_spikes, called by psth_channel, executed in 0.000s\n",
      "14:34:52- Function truncate_spikes, called by psth_channel, executed in 0.000s\n",
      "14:34:52- Function truncate_spikes, called by psth_channel, executed in 0.001s\n",
      "14:34:52- Function truncate_spikes, called by psth_channel, executed in 0.000s\n",
      "14:34:52- Function truncate_spikes, called by psth_channel, executed in 0.000s\n",
      "14:34:52- Function truncate_spikes, called by psth_channel, executed in 0.000s\n",
      "14:34:52- Function truncate_spikes, called by psth_channel, executed in 0.001s\n",
      "14:34:52- Function truncate_spikes, called by psth_channel, executed in 0.001s\n",
      "14:34:52- Function truncate_spikes, called by psth_channel, executed in 0.000s\n",
      "14:34:52- Function truncate_spikes, called by psth_channel, executed in 0.001s\n",
      "14:34:52- Function truncate_spikes, called by psth_channel, executed in 0.001s\n",
      "14:34:52- Function truncate_spikes, called by psth_channel, executed in 0.001s\n",
      "14:34:52- Function truncate_spikes, called by psth_channel, executed in 0.000s\n",
      "14:34:52- Function truncate_spikes, called by psth_channel, executed in 0.000s\n",
      "14:34:52- Function truncate_spikes, called by psth_channel, executed in 0.001s\n",
      "14:34:52- Function truncate_spikes, called by psth_channel, executed in 0.001s\n",
      "14:34:52- Function truncate_spikes, called by psth_channel, executed in 0.000s\n",
      "14:34:52- Function truncate_spikes, called by psth_channel, executed in 0.001s\n",
      "14:34:52- Function truncate_spikes, called by psth_channel, executed in 0.001s\n",
      "14:34:52- Function truncate_spikes, called by psth_channel, executed in 0.000s\n",
      "14:34:52- Function truncate_spikes, called by psth_channel, executed in 0.000s\n",
      "14:34:53- Function truncate_spikes, called by psth_channel, executed in 0.001s\n",
      "14:34:53- Function truncate_spikes, called by psth_channel, executed in 0.001s\n",
      "14:34:53- Function truncate_spikes, called by psth_channel, executed in 0.000s\n",
      "14:34:54- Function make_plots, called by psth_channel, executed in 1.619s\n",
      "14:34:57- Function io_save_fig, called by psth_channel, executed in 3.227s\n",
      "14:34:58- Function make_plots, called by psth_channel, executed in 0.233s\n",
      "14:35:01- Function io_save_fig, called by psth_channel, executed in 3.217s\n",
      "14:35:01- Function make_plots, called by psth_channel, executed in 0.213s\n",
      "14:35:04- Function io_save_fig, called by psth_channel, executed in 3.193s\n",
      "14:35:05- Function make_plots, called by psth_channel, executed in 0.209s\n",
      "14:35:08- Function io_save_fig, called by psth_channel, executed in 3.137s\n",
      "14:35:08- Function make_plots, called by psth_channel, executed in 0.199s\n",
      "14:35:11- Function io_save_fig, called by psth_channel, executed in 3.245s\n",
      "14:35:12- Function make_plots, called by psth_channel, executed in 0.333s\n",
      "14:35:15- Function io_save_fig, called by psth_channel, executed in 3.201s\n",
      "14:35:15- Function make_plots, called by psth_channel, executed in 0.203s\n",
      "14:35:18- Function io_save_fig, called by psth_channel, executed in 3.217s\n",
      "14:35:19- Function make_plots, called by psth_channel, executed in 0.231s\n",
      "14:35:22- Function io_save_fig, called by psth_channel, executed in 3.148s\n",
      "14:35:22- Function make_plots, called by psth_channel, executed in 0.227s\n",
      "14:35:25- Function io_save_fig, called by psth_channel, executed in 3.292s\n",
      "14:35:25- Function make_plots, called by psth_channel, executed in 0.220s\n",
      "14:35:29- Function io_save_fig, called by psth_channel, executed in 3.174s\n",
      "14:35:29- Function make_plots, called by psth_channel, executed in 0.324s\n",
      "14:35:32- Function io_save_fig, called by psth_channel, executed in 3.238s\n",
      "14:35:33- Function make_plots, called by psth_channel, executed in 0.228s\n",
      "14:35:36- Function io_save_fig, called by psth_channel, executed in 3.168s\n",
      "14:35:36- Function make_plots, called by psth_channel, executed in 0.201s\n",
      "14:35:39- Function io_save_fig, called by psth_channel, executed in 3.189s\n",
      "14:35:39- Function make_plots, called by psth_channel, executed in 0.222s\n",
      "14:35:43- Function io_save_fig, called by psth_channel, executed in 3.159s\n",
      "14:35:43- Function make_plots, called by psth_channel, executed in 0.200s\n",
      "14:35:46- Function io_save_fig, called by psth_channel, executed in 3.230s\n",
      "14:35:46- Function make_plots, called by psth_channel, executed in 0.214s\n",
      "14:35:49- Function io_save_fig, called by psth_channel, executed in 3.161s\n",
      "14:35:50- Function make_plots, called by psth_channel, executed in 0.216s\n",
      "14:35:53- Function io_save_fig, called by psth_channel, executed in 3.233s\n",
      "14:35:53- Function make_plots, called by psth_channel, executed in 0.376s\n",
      "14:35:57- Function io_save_fig, called by psth_channel, executed in 3.170s\n",
      "14:35:57- Function make_plots, called by psth_channel, executed in 0.218s\n",
      "14:36:00- Function io_save_fig, called by psth_channel, executed in 3.155s\n",
      "14:36:00- Function make_plots, called by psth_channel, executed in 0.214s\n",
      "14:36:03- Function io_save_fig, called by psth_channel, executed in 3.137s\n",
      "14:36:04- Function make_plots, called by psth_channel, executed in 0.208s\n",
      "14:36:07- Function io_save_fig, called by psth_channel, executed in 3.203s\n",
      "14:36:07- Function make_plots, called by psth_channel, executed in 0.196s\n",
      "14:36:10- Function io_save_fig, called by psth_channel, executed in 3.193s\n",
      "14:36:10- Function make_plots, called by psth_channel, executed in 0.228s\n",
      "14:36:14- Function io_save_fig, called by psth_channel, executed in 3.167s\n",
      "14:36:14- Function make_plots, called by psth_channel, executed in 0.196s\n",
      "14:36:17- Function io_save_fig, called by psth_channel, executed in 3.164s\n",
      "14:36:17- Function make_plots, called by psth_channel, executed in 0.389s\n",
      "14:36:21- Function io_save_fig, called by psth_channel, executed in 3.167s\n",
      "14:36:21- Function make_plots, called by psth_channel, executed in 0.214s\n",
      "14:36:24- Function io_save_fig, called by psth_channel, executed in 3.192s\n",
      "14:36:24- Function make_plots, called by psth_channel, executed in 0.205s\n"
     ]
    },
    {
     "name": "stdout",
     "output_type": "stream",
     "text": [
      "14:36:27- Function io_save_fig, called by psth_channel, executed in 3.124s\n",
      "14:36:28- Function make_plots, called by psth_channel, executed in 0.226s\n",
      "14:36:31- Function io_save_fig, called by psth_channel, executed in 3.241s\n",
      "14:36:31- Function make_plots, called by psth_channel, executed in 0.193s\n",
      "14:36:34- Function io_save_fig, called by psth_channel, executed in 3.147s\n",
      "14:36:35- Function make_plots, called by psth_channel, executed in 0.204s\n",
      "14:36:38- Function io_save_fig, called by psth_channel, executed in 3.143s\n",
      "14:36:38- Function make_plots, called by psth_channel, executed in 0.214s\n",
      "14:36:41- Function io_save_fig, called by psth_channel, executed in 3.191s\n",
      "14:36:41- Function make_plots, called by psth_channel, executed in 0.215s\n",
      "14:36:45- Function io_save_fig, called by psth_channel, executed in 3.167s\n",
      "14:36:45- Function make_plots, called by psth_channel, executed in 0.208s\n",
      "14:36:48- Function io_save_fig, called by psth_channel, executed in 3.280s\n",
      "14:36:48- Function make_plots, called by psth_channel, executed in 0.220s\n",
      "14:36:52- Function io_save_fig, called by psth_channel, executed in 3.226s\n",
      "14:36:52- Function make_plots, called by psth_channel, executed in 0.449s\n",
      "14:36:55- Function io_save_fig, called by psth_channel, executed in 3.230s\n",
      "14:36:56- Function make_plots, called by psth_channel, executed in 0.212s\n",
      "14:36:59- Function io_save_fig, called by psth_channel, executed in 3.116s\n",
      "14:36:59- Function make_plots, called by psth_channel, executed in 0.227s\n",
      "14:37:02- Function io_save_fig, called by psth_channel, executed in 3.205s\n",
      "14:37:02- Function make_plots, called by psth_channel, executed in 0.199s\n",
      "14:37:06- Function io_save_fig, called by psth_channel, executed in 3.158s\n",
      "14:37:06- Function make_plots, called by psth_channel, executed in 0.201s\n",
      "14:37:09- Function io_save_fig, called by psth_channel, executed in 3.222s\n",
      "14:37:09- Function make_plots, called by psth_channel, executed in 0.209s\n",
      "14:37:12- Function io_save_fig, called by psth_channel, executed in 3.191s\n",
      "14:37:13- Function make_plots, called by psth_channel, executed in 0.218s\n",
      "14:37:16- Function io_save_fig, called by psth_channel, executed in 3.211s\n",
      "14:37:16- Function make_plots, called by psth_channel, executed in 0.221s\n",
      "14:37:19- Function io_save_fig, called by psth_channel, executed in 3.201s\n",
      "14:37:20- Function make_plots, called by psth_channel, executed in 0.226s\n",
      "14:37:23- Function io_save_fig, called by psth_channel, executed in 3.144s\n",
      "14:37:23- Function make_plots, called by psth_channel, executed in 0.203s\n",
      "14:37:26- Function io_save_fig, called by psth_channel, executed in 3.232s\n",
      "14:37:26- Function make_plots, called by psth_channel, executed in 0.210s\n",
      "14:37:30- Function io_save_fig, called by psth_channel, executed in 3.217s\n",
      "14:37:30- Function make_plots, called by psth_channel, executed in 0.207s\n",
      "14:37:33- Function io_save_fig, called by psth_channel, executed in 3.193s\n",
      "14:37:34- Function make_plots, called by psth_channel, executed in 0.513s\n",
      "14:37:37- Function io_save_fig, called by psth_channel, executed in 3.212s\n",
      "14:37:37- Function make_plots, called by psth_channel, executed in 0.220s\n",
      "14:37:40- Function io_save_fig, called by psth_channel, executed in 3.132s\n",
      "14:37:41- Function make_plots, called by psth_channel, executed in 0.209s\n",
      "14:37:44- Function io_save_fig, called by psth_channel, executed in 3.188s\n",
      "14:37:44- Function make_plots, called by psth_channel, executed in 0.229s\n",
      "14:37:47- Function io_save_fig, called by psth_channel, executed in 3.165s\n",
      "14:37:47- Function make_plots, called by psth_channel, executed in 0.204s\n",
      "14:37:51- Function io_save_fig, called by psth_channel, executed in 3.149s\n",
      "14:37:51- Function make_plots, called by psth_channel, executed in 0.205s\n",
      "14:37:54- Function io_save_fig, called by psth_channel, executed in 3.143s\n",
      "14:37:54- Function make_plots, called by psth_channel, executed in 0.210s\n",
      "14:37:57- Function io_save_fig, called by psth_channel, executed in 3.181s\n",
      "14:37:58- Function make_plots, called by psth_channel, executed in 0.201s\n",
      "14:38:01- Function io_save_fig, called by psth_channel, executed in 3.164s\n",
      "14:38:01- Function make_plots, called by psth_channel, executed in 0.192s\n",
      "14:38:04- Function io_save_fig, called by psth_channel, executed in 3.153s\n",
      "14:38:04- Function make_plots, called by psth_channel, executed in 0.226s\n",
      "14:38:08- Function io_save_fig, called by psth_channel, executed in 3.219s\n",
      "14:38:08- Function make_plots, called by psth_channel, executed in 0.204s\n",
      "14:38:11- Function io_save_fig, called by psth_channel, executed in 3.138s\n",
      "14:38:11- Function make_plots, called by psth_channel, executed in 0.214s\n",
      "14:38:14- Function io_save_fig, called by psth_channel, executed in 3.169s\n",
      "14:38:15- Function make_plots, called by psth_channel, executed in 0.232s\n",
      "14:38:18- Function io_save_fig, called by psth_channel, executed in 3.124s\n",
      "14:38:18- Function make_plots, called by psth_channel, executed in 0.198s\n",
      "14:38:21- Function io_save_fig, called by psth_channel, executed in 3.161s\n",
      "14:38:21- Function make_plots, called by psth_channel, executed in 0.212s\n",
      "14:38:25- Function io_save_fig, called by psth_channel, executed in 3.220s\n",
      "14:38:25- Function make_plots, called by psth_channel, executed in 0.627s\n",
      "14:38:29- Function io_save_fig, called by psth_channel, executed in 3.190s\n",
      "14:38:29- Function make_plots, called by psth_channel, executed in 0.210s\n",
      "14:38:32- Function io_save_fig, called by psth_channel, executed in 3.166s\n",
      "14:38:32- Function make_plots, called by psth_channel, executed in 0.232s\n",
      "14:38:36- Function io_save_fig, called by psth_channel, executed in 3.257s\n",
      "14:38:36- Function io_save_psth_traces, called by psth_channel, executed in 0.002s\n",
      "14:38:36- Function psth_channel, called by <module>, executed in 3:43\n",
      "Stop: 2021-10-06 14:38:36.053305\n",
      "\n"
     ]
    }
   ],
   "source": [
    "all_onsets = [isolation2_onsets[:-1]]\n",
    "dirnames = [isolation2]\n",
    "sr_am, am = wavfile.read('white_sine_2s.wav')\n",
    "for i in range(len(all_onsets)):\n",
    "    print('Start:' , datetime.datetime.now())\n",
    "    dirname = dirnames[i]\n",
    "    \n",
    "    sr_phys, data_phys, data_audio, ephys_trigger = load_data_new(dirname, phys_bandpass=(200, 4000))\n",
    "    \n",
    "    spikes = get_spikes(data_phys, threshold=4)\n",
    "    \n",
    "    \n",
    "    \n",
    "    onsets = all_onsets[i]\n",
    "    \n",
    "    folder_name = 'psth_am'\n",
    "    \n",
    "    if os.path.exists(os.path.join(dirname, folder_name)) == False:\n",
    "        os.mkdir(os.path.join(dirname, folder_name))\n",
    "\n",
    "    psth_channel(spikes, am, onsets, ephys_trigger, sr_audio = sr_am,\n",
    "                 save_fig=True, outname='_am_{}'.format(dirname.split('_')[-1]),\n",
    "                 savedir=os.path.join(dirname, folder_name), hide_plot=True)\n",
    "    print('Stop:' , datetime.datetime.now())\n",
    "    print()\n",
    "#     psth_channel(spikes, am, onsets, ephys_trigger, sr_audio = sr_am,\n",
    "#                             save_fig=True, outname='_am_{}'.format(dirname.split('_')[-1]), hide_plot=True)"
   ]
  },
  {
   "cell_type": "code",
   "execution_count": null,
   "metadata": {},
   "outputs": [],
   "source": []
  },
  {
   "cell_type": "markdown",
   "metadata": {},
   "source": [
    "## troubleshoot"
   ]
  },
  {
   "cell_type": "code",
   "execution_count": 8,
   "metadata": {},
   "outputs": [],
   "source": [
    "import ephys_util"
   ]
  },
  {
   "cell_type": "code",
   "execution_count": 9,
   "metadata": {},
   "outputs": [
    {
     "name": "stdout",
     "output_type": "stream",
     "text": [
      "14:38:36- Function truncate_spikes, called by <module>, executed in 0.001s\n",
      "(64, 0)\n",
      "14:38:36- Function truncate_spikes, called by <module>, executed in 0.001s\n",
      "(64, 0)\n",
      "14:38:36- Function truncate_spikes, called by <module>, executed in 0.001s\n",
      "(64, 0)\n",
      "14:38:36- Function truncate_spikes, called by <module>, executed in 0.000s\n",
      "(64, 0)\n",
      "14:38:36- Function truncate_spikes, called by <module>, executed in 0.001s\n",
      "(64, 0)\n",
      "14:38:36- Function truncate_spikes, called by <module>, executed in 0.001s\n",
      "(64, 0)\n",
      "14:38:36- Function truncate_spikes, called by <module>, executed in 0.001s\n",
      "(64, 0)\n",
      "14:38:36- Function truncate_spikes, called by <module>, executed in 0.001s\n",
      "(64, 0)\n",
      "14:38:36- Function truncate_spikes, called by <module>, executed in 0.000s\n",
      "(64, 0)\n",
      "14:38:36- Function truncate_spikes, called by <module>, executed in 0.000s\n",
      "(64, 0)\n",
      "14:38:36- Function truncate_spikes, called by <module>, executed in 0.000s\n",
      "(64, 0)\n",
      "14:38:36- Function truncate_spikes, called by <module>, executed in 0.000s\n",
      "(64, 0)\n",
      "14:38:36- Function truncate_spikes, called by <module>, executed in 0.001s\n",
      "(64, 0)\n",
      "14:38:36- Function truncate_spikes, called by <module>, executed in 0.000s\n",
      "(64, 0)\n",
      "14:38:36- Function truncate_spikes, called by <module>, executed in 0.000s\n",
      "(64, 0)\n",
      "14:38:36- Function truncate_spikes, called by <module>, executed in 0.001s\n",
      "(64, 0)\n",
      "14:38:36- Function truncate_spikes, called by <module>, executed in 0.000s\n",
      "(64, 0)\n",
      "14:38:36- Function truncate_spikes, called by <module>, executed in 0.000s\n",
      "(64, 0)\n",
      "14:38:36- Function truncate_spikes, called by <module>, executed in 0.000s\n",
      "(64, 0)\n",
      "14:38:36- Function truncate_spikes, called by <module>, executed in 0.001s\n",
      "(64, 0)\n",
      "14:38:36- Function truncate_spikes, called by <module>, executed in 0.001s\n",
      "(64, 0)\n",
      "14:38:36- Function truncate_spikes, called by <module>, executed in 0.001s\n",
      "(64, 0)\n",
      "14:38:36- Function truncate_spikes, called by <module>, executed in 0.000s\n",
      "(64, 0)\n",
      "14:38:36- Function truncate_spikes, called by <module>, executed in 0.001s\n",
      "(64, 0)\n",
      "14:38:36- Function truncate_spikes, called by <module>, executed in 0.001s\n",
      "(64, 0)\n",
      "14:38:36- Function truncate_spikes, called by <module>, executed in 0.000s\n",
      "(64, 0)\n",
      "14:38:36- Function truncate_spikes, called by <module>, executed in 0.001s\n",
      "(64, 0)\n",
      "14:38:36- Function truncate_spikes, called by <module>, executed in 0.000s\n",
      "(64, 0)\n",
      "14:38:36- Function truncate_spikes, called by <module>, executed in 0.001s\n",
      "(64, 0)\n",
      "14:38:36- Function truncate_spikes, called by <module>, executed in 0.001s\n",
      "(64, 0)\n",
      "14:38:36- Function truncate_spikes, called by <module>, executed in 0.000s\n",
      "(64, 0)\n",
      "14:38:36- Function truncate_spikes, called by <module>, executed in 0.001s\n",
      "(64, 0)\n",
      "14:38:36- Function truncate_spikes, called by <module>, executed in 0.000s\n",
      "(64, 0)\n",
      "14:38:36- Function truncate_spikes, called by <module>, executed in 0.001s\n",
      "(64, 0)\n",
      "14:38:36- Function truncate_spikes, called by <module>, executed in 0.001s\n",
      "(64, 0)\n",
      "14:38:36- Function truncate_spikes, called by <module>, executed in 0.000s\n",
      "(64, 0)\n",
      "14:38:36- Function truncate_spikes, called by <module>, executed in 0.000s\n",
      "(64, 0)\n",
      "14:38:36- Function truncate_spikes, called by <module>, executed in 0.000s\n",
      "(64, 0)\n",
      "14:38:36- Function truncate_spikes, called by <module>, executed in 0.000s\n",
      "(64, 0)\n",
      "14:38:36- Function truncate_spikes, called by <module>, executed in 0.000s\n",
      "(64, 0)\n"
     ]
    }
   ],
   "source": [
    "audio = am\n",
    "sr_audio = 125000\n",
    "pad = 1\n",
    "\n",
    "all_spikes = []\n",
    "\n",
    "for onset in isolation2_onsets:\n",
    "\n",
    "    dur = len(audio)/sr_audio\n",
    "    offset = onset + dur + pad\n",
    "    onset = onset - pad\n",
    "    total_dur = dur + (2*pad)\n",
    "\n",
    "\n",
    "    spikes_trunc = ephys_util.truncate_spikes(spikes, onset = onset,offset = offset,ephys_trigger=ephys_trigger)\n",
    "    print(shape(spikes_trunc))\n",
    "    all_spikes.append(spikes_trunc)"
   ]
  },
  {
   "cell_type": "code",
   "execution_count": 10,
   "metadata": {},
   "outputs": [
    {
     "data": {
      "text/plain": [
       "27.451544"
      ]
     },
     "execution_count": 10,
     "metadata": {},
     "output_type": "execute_result"
    }
   ],
   "source": [
    "ephys_trigger/125000"
   ]
  },
  {
   "cell_type": "code",
   "execution_count": 11,
   "metadata": {},
   "outputs": [
    {
     "data": {
      "text/plain": [
       "array([   8.481456,   76.081456,  143.681456,  211.281456,  278.881456,\n",
       "        346.481456,  414.081456,  481.681456,  549.281456,  616.881456,\n",
       "        684.481456,  752.081456,  819.681456,  887.281456,  954.881456,\n",
       "       1022.481456, 1090.081456, 1157.681456, 1225.281456, 1292.881456,\n",
       "       1360.481456, 1428.081456, 1495.681456, 1563.281456, 1630.881456,\n",
       "       1698.481456, 1766.081456, 1833.681456, 1901.281456, 1968.881456,\n",
       "       2036.481456, 2104.081456, 2171.681456, 2239.281456, 2306.881456,\n",
       "       2374.481456, 2442.081456, 2509.681456, 2577.281456, 2644.881456])"
      ]
     },
     "execution_count": 11,
     "metadata": {},
     "output_type": "execute_result"
    }
   ],
   "source": [
    "isolation2_onsets-(ephys_trigger/125000)"
   ]
  },
  {
   "cell_type": "code",
   "execution_count": 12,
   "metadata": {
    "scrolled": true
   },
   "outputs": [
    {
     "data": {
      "text/plain": [
       "-1799.99488"
      ]
     },
     "execution_count": 12,
     "metadata": {},
     "output_type": "execute_result"
    }
   ],
   "source": [
    "(shape(data_phys)[0]/sr_phys) - 1800"
   ]
  },
  {
   "cell_type": "code",
   "execution_count": 13,
   "metadata": {},
   "outputs": [
    {
     "data": {
      "text/plain": [
       "2644.879456"
      ]
     },
     "execution_count": 13,
     "metadata": {},
     "output_type": "execute_result"
    }
   ],
   "source": [
    "1800 + 872.331 - (27.451544)"
   ]
  },
  {
   "cell_type": "code",
   "execution_count": null,
   "metadata": {},
   "outputs": [],
   "source": []
  },
  {
   "cell_type": "code",
   "execution_count": 14,
   "metadata": {},
   "outputs": [
    {
     "data": {
      "text/plain": [
       "(64, 0)"
      ]
     },
     "execution_count": 14,
     "metadata": {},
     "output_type": "execute_result"
    }
   ],
   "source": [
    "shape(spikes_trunc)"
   ]
  },
  {
   "cell_type": "code",
   "execution_count": 15,
   "metadata": {},
   "outputs": [
    {
     "ename": "IndexError",
     "evalue": "index 0 is out of bounds for axis 1 with size 0",
     "output_type": "error",
     "traceback": [
      "\u001b[1;31m---------------------------------------------------------------------------\u001b[0m",
      "\u001b[1;31mIndexError\u001b[0m                                Traceback (most recent call last)",
      "\u001b[1;32mC:\\Users\\ACQUIS~1\\AppData\\Local\\Temp/ipykernel_11656/153639149.py\u001b[0m in \u001b[0;36m<module>\u001b[1;34m\u001b[0m\n\u001b[0;32m      1\u001b[0m \u001b[1;32mfor\u001b[0m \u001b[0mi\u001b[0m \u001b[1;32min\u001b[0m \u001b[0mrange\u001b[0m\u001b[1;33m(\u001b[0m\u001b[1;36m64\u001b[0m\u001b[1;33m)\u001b[0m\u001b[1;33m:\u001b[0m\u001b[1;33m\u001b[0m\u001b[1;33m\u001b[0m\u001b[0m\n\u001b[1;32m----> 2\u001b[1;33m     \u001b[0mch\u001b[0m \u001b[1;33m=\u001b[0m \u001b[0mnp\u001b[0m\u001b[1;33m.\u001b[0m\u001b[0mvstack\u001b[0m\u001b[1;33m(\u001b[0m\u001b[0mall_spikes\u001b[0m\u001b[1;33m)\u001b[0m\u001b[1;33m[\u001b[0m\u001b[1;33m:\u001b[0m\u001b[1;33m,\u001b[0m\u001b[0mi\u001b[0m\u001b[1;33m]\u001b[0m\u001b[1;33m\u001b[0m\u001b[1;33m\u001b[0m\u001b[0m\n\u001b[0m\u001b[0;32m      3\u001b[0m     \u001b[0mprint\u001b[0m\u001b[1;33m(\u001b[0m\u001b[0mi\u001b[0m\u001b[1;33m)\u001b[0m\u001b[1;33m\u001b[0m\u001b[1;33m\u001b[0m\u001b[0m\n",
      "\u001b[1;31mIndexError\u001b[0m: index 0 is out of bounds for axis 1 with size 0"
     ]
    }
   ],
   "source": [
    "#for i in range(64):\n",
    "#    ch = np.vstack(all_spikes)[:,i]\n",
    "#    print(i)\n"
   ]
  },
  {
   "cell_type": "code",
   "execution_count": null,
   "metadata": {},
   "outputs": [],
   "source": [
    "len(all_spikes)"
   ]
  },
  {
   "cell_type": "code",
   "execution_count": null,
   "metadata": {},
   "outputs": [],
   "source": []
  },
  {
   "cell_type": "code",
   "execution_count": null,
   "metadata": {},
   "outputs": [],
   "source": [
    "pad"
   ]
  },
  {
   "cell_type": "code",
   "execution_count": null,
   "metadata": {},
   "outputs": [],
   "source": []
  },
  {
   "cell_type": "markdown",
   "metadata": {},
   "source": [
    "# psth plots"
   ]
  },
  {
   "cell_type": "code",
   "execution_count": null,
   "metadata": {},
   "outputs": [],
   "source": [
    "psths_iso2 = np.load(glob(path.join(isolation2, r'psth_am/*.npy'))[0], allow_pickle=True)"
   ]
  },
  {
   "cell_type": "code",
   "execution_count": null,
   "metadata": {
    "scrolled": false
   },
   "outputs": [],
   "source": [
    "for i in range(64):\n",
    "    figure()\n",
    "   \n",
    "    plot(psths_iso2[:,1][i][:-1], psths_iso2[:,0][i], label='AM - iso2', color='red', zorder=2) \n",
    "\n",
    "    \n",
    "    ylim(-1,300)\n",
    "    vlines(12500, 0, 250, linestyle='--', color='k', linewidth=1)\n",
    "    vlines(12500*3, 0, 250, linestyle='--', color='k', linewidth=1)\n",
    "    ylabel('counts \\n (0.05 s bin)', rotation=0, labelpad=60)\n",
    "    xticks(np.arange(0, psths_iso2[:,1][i][-1]+1, 12500),\n",
    "           np.arange(0, psths_iso2[:,1][i][-1]+1, 12500)/12500)\n",
    "    xlabel('Time (s)')\n",
    "    legend(bbox_to_anchor=(1.25,1))\n",
    "    title('channel {}'.format(i+1))\n",
    "    sns.despine()"
   ]
  },
  {
   "cell_type": "code",
   "execution_count": null,
   "metadata": {},
   "outputs": [],
   "source": []
  }
 ],
 "metadata": {
  "kernelspec": {
   "display_name": "Python 3 (ipykernel)",
   "language": "python",
   "name": "python3"
  },
  "language_info": {
   "codemirror_mode": {
    "name": "ipython",
    "version": 3
   },
   "file_extension": ".py",
   "mimetype": "text/x-python",
   "name": "python",
   "nbconvert_exporter": "python",
   "pygments_lexer": "ipython3",
   "version": "3.7.10"
  }
 },
 "nbformat": 4,
 "nbformat_minor": 4
}
